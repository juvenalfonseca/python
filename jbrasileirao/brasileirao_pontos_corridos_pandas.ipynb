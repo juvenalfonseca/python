{
  "nbformat": 4,
  "nbformat_minor": 0,
  "metadata": {
    "colab": {
      "name": "brasileirao_pontos_corridos_pandas.ipynb",
      "provenance": [],
      "collapsed_sections": []
    },
    "kernelspec": {
      "display_name": "Python 3 (ipykernel)",
      "language": "python",
      "name": "python3"
    },
    "language_info": {
      "codemirror_mode": {
        "name": "ipython",
        "version": 3
      },
      "file_extension": ".py",
      "mimetype": "text/x-python",
      "name": "python",
      "nbconvert_exporter": "python",
      "pygments_lexer": "ipython3",
      "version": "3.8.2"
    }
  },
  "cells": [
    {
      "cell_type": "markdown",
      "metadata": {
        "id": "mpAsl9kZ3rX3"
      },
      "source": [
        "# Análise exploratória do Campeonato Brasileiro de Pontos Corridos Série A [2003-2020]\n",
        "###### *Tem como finalidade exibir algumas análises relacionadas aos campeonatos brasileiros de futebol realizados como forma de pontos ocorridos*\n",
        "\n",
        "![](https://imagens.ebc.com.br/aw-I_Y2OkUmA5Cdd6ZJmEYb1tko=/1170x700/smart/https://agenciabrasil.ebc.com.br/sites/default/files/thumbnails/image/trofeu_campeonato_brasileiro_serie_a.jpeg?itok=uQmZd0io)\n",
        "\n",
        "\n",
        "**DataSets**\n",
        "*   [campeonato-brasileiro-pontos-corridos-2003-2020-periodo.csv](https://github.com/juvenalfonseca/python/blob/master/datasets/campeonato-brasileiro-pontos-corridos-2003-2020-periodo.csv)\n",
        "*   [campeonato-brasileiro-pontos-corridos-2003-2020-jogos.csv](https://github.com/juvenalfonseca/python/blob/master/datasets/campeonato-brasileiro-pontos-corridos-2003-2020-jogos.csv)\n",
        "\n",
        "\n",
        "**Referências dos DataSets**\n",
        "* https://github.com/adaoduque/Brasileirao_Dataset\n",
        "* https://pt.wikipedia.org/wiki/Campeonato_Brasileiro_de_Futebol_de_2003"
      ]
    },
    {
      "cell_type": "markdown",
      "metadata": {
        "id": "-bhdEm44TgRM"
      },
      "source": [
        "## Importando Bibliotecas"
      ]
    },
    {
      "cell_type": "code",
      "metadata": {
        "id": "MWA2eFmFqi3L"
      },
      "source": [
        "import pandas as pd\n",
        "import warnings as wa\n",
        "import seaborn as sns\n",
        "import matplotlib.pyplot as plt\n",
        "\n",
        "\n",
        "wa.simplefilter( action='ignore', category= FutureWarning)\n",
        "pd.options.mode.chained_assignment = None"
      ],
      "execution_count": 282,
      "outputs": []
    },
    {
      "cell_type": "markdown",
      "metadata": {
        "id": "vytu8xYfTgRN"
      },
      "source": [
        "## Configura Gráficos"
      ]
    },
    {
      "cell_type": "code",
      "metadata": {
        "id": "YeGFcd10TgRN"
      },
      "source": [
        "### configura parametros de tamanho dos gráficos\n",
        "plt.rcParams['figure.figsize'] = (20,10)\n",
        "plt.rcParams['xtick.labelsize'] = 10\n",
        "plt.rcParams['ytick.labelsize'] = 10\n",
        "plt.rcParams['font.size'] = 15 \n",
        "plt.rcParams['axes.titlesize'] = 20"
      ],
      "execution_count": 283,
      "outputs": []
    },
    {
      "cell_type": "markdown",
      "metadata": {
        "id": "0ycdDMNvTgRN"
      },
      "source": [
        "## Base de Dados"
      ]
    },
    {
      "cell_type": "code",
      "metadata": {
        "id": "OOTf-OtuzKiX"
      },
      "source": [
        "### carrega datasets\n",
        "df_periodo = pd.read_csv(\"https://github.com/juvenalfonseca/python/blob/master/datasets/campeonato-brasileiro-pontos-corridos-2003-2020-periodo.csv?raw=true\", delimiter=\";\")\n",
        "df_jogos   = pd.read_csv(\"https://github.com/juvenalfonseca/python/blob/master/datasets/campeonato-brasileiro-pontos-corridos-2003-2020-jogos.csv?raw=true\", delimiter=\";\")"
      ],
      "execution_count": 284,
      "outputs": []
    },
    {
      "cell_type": "markdown",
      "metadata": {
        "id": "xcapUoANTgRN"
      },
      "source": [
        "## Configurações para Análise"
      ]
    },
    {
      "cell_type": "code",
      "metadata": {
        "id": "15HV6AysCrNq"
      },
      "source": [
        "### padroniza caixa dos nomes das variáveis\n",
        "df_periodo.columns = df_periodo.columns.str.lower()\n",
        "df_jogos.columns   = df_jogos.columns.str.lower()"
      ],
      "execution_count": 285,
      "outputs": []
    },
    {
      "cell_type": "code",
      "metadata": {
        "id": "1NYLUXxcDips"
      },
      "source": [
        "### altera campos de datas de character para date\n",
        "df_periodo['inicio'] = pd.to_datetime(df_periodo['inicio'], format=\"%d/%m/%Y\")\n",
        "df_periodo['fim'   ] = pd.to_datetime(df_periodo['fim'   ], format=\"%d/%m/%Y\")\n",
        "\n",
        "df_jogos['data'] = pd.to_datetime(df_jogos['data'], format=\"%d/%m/%Y\")\n"
      ],
      "execution_count": 286,
      "outputs": []
    },
    {
      "cell_type": "code",
      "metadata": {
        "id": "cQ9IUxsgIaDy"
      },
      "source": [
        "### captalizar strings\n",
        "df_jogos['dia'      ] = df_jogos['dia'      ].str.title()\n",
        "df_jogos['mandante' ] = df_jogos['mandante' ].str.title()\n",
        "df_jogos['visitante'] = df_jogos['visitante'].str.title()\n",
        "df_jogos['vencedor' ] = df_jogos['vencedor' ].str.title()\n",
        "df_jogos['arena'    ] = df_jogos['arena'    ].apply(lambda x: x.title())"
      ],
      "execution_count": 287,
      "outputs": []
    },
    {
      "cell_type": "code",
      "metadata": {
        "id": "J0vL2xXmL232"
      },
      "source": [
        "### junta os datasets e retorna apenas os registros corretos criados na junção\n",
        "df_periodo['key'] = 1\n",
        "df_jogos['key'] = 1\n",
        "\n",
        "df = pd.merge(df_periodo, df_jogos, on ='key').drop(\"key\", 1)\n",
        "df = df.query('data >= inicio & data <= fim')"
      ],
      "execution_count": 288,
      "outputs": []
    },
    {
      "cell_type": "code",
      "metadata": {
        "colab": {
          "base_uri": "https://localhost:8080/",
          "height": 204
        },
        "id": "0pNOJrZ8Yn5Z",
        "outputId": "bced7898-9cdc-43a2-bb4b-7936d09c8854"
      },
      "source": [
        "df.head(5)"
      ],
      "execution_count": 289,
      "outputs": [
        {
          "output_type": "execute_result",
          "data": {
            "text/html": [
              "<div>\n",
              "<style scoped>\n",
              "    .dataframe tbody tr th:only-of-type {\n",
              "        vertical-align: middle;\n",
              "    }\n",
              "\n",
              "    .dataframe tbody tr th {\n",
              "        vertical-align: top;\n",
              "    }\n",
              "\n",
              "    .dataframe thead th {\n",
              "        text-align: right;\n",
              "    }\n",
              "</style>\n",
              "<table border=\"1\" class=\"dataframe\">\n",
              "  <thead>\n",
              "    <tr style=\"text-align: right;\">\n",
              "      <th></th>\n",
              "      <th>torneio</th>\n",
              "      <th>inicio</th>\n",
              "      <th>fim</th>\n",
              "      <th>rodada</th>\n",
              "      <th>data</th>\n",
              "      <th>horário</th>\n",
              "      <th>dia</th>\n",
              "      <th>mandante</th>\n",
              "      <th>visitante</th>\n",
              "      <th>vencedor</th>\n",
              "      <th>arena</th>\n",
              "      <th>mandante placar</th>\n",
              "      <th>visitante placar</th>\n",
              "      <th>estado mandante</th>\n",
              "      <th>estado visitante</th>\n",
              "      <th>estado vencedor</th>\n",
              "    </tr>\n",
              "  </thead>\n",
              "  <tbody>\n",
              "    <tr>\n",
              "      <th>0</th>\n",
              "      <td>BRA2003</td>\n",
              "      <td>2003-03-29</td>\n",
              "      <td>2003-12-14</td>\n",
              "      <td>1</td>\n",
              "      <td>2003-03-29</td>\n",
              "      <td>16h00</td>\n",
              "      <td>Sábado</td>\n",
              "      <td>Athlético-Pr</td>\n",
              "      <td>Grêmio</td>\n",
              "      <td>Athlético-Pr</td>\n",
              "      <td>Arena Da Baixada</td>\n",
              "      <td>2</td>\n",
              "      <td>0</td>\n",
              "      <td>PR</td>\n",
              "      <td>RS</td>\n",
              "      <td>PR</td>\n",
              "    </tr>\n",
              "    <tr>\n",
              "      <th>1</th>\n",
              "      <td>BRA2003</td>\n",
              "      <td>2003-03-29</td>\n",
              "      <td>2003-12-14</td>\n",
              "      <td>1</td>\n",
              "      <td>2003-03-29</td>\n",
              "      <td>16h00</td>\n",
              "      <td>Sábado</td>\n",
              "      <td>Guarani</td>\n",
              "      <td>Vasco</td>\n",
              "      <td>Guarani</td>\n",
              "      <td>Brinco De Ouro</td>\n",
              "      <td>4</td>\n",
              "      <td>2</td>\n",
              "      <td>SP</td>\n",
              "      <td>RJ</td>\n",
              "      <td>SP</td>\n",
              "    </tr>\n",
              "    <tr>\n",
              "      <th>2</th>\n",
              "      <td>BRA2003</td>\n",
              "      <td>2003-03-29</td>\n",
              "      <td>2003-12-14</td>\n",
              "      <td>1</td>\n",
              "      <td>2003-03-30</td>\n",
              "      <td>16h00</td>\n",
              "      <td>Domingo</td>\n",
              "      <td>Fortaleza</td>\n",
              "      <td>Bahia</td>\n",
              "      <td>-</td>\n",
              "      <td>Castelão</td>\n",
              "      <td>0</td>\n",
              "      <td>0</td>\n",
              "      <td>CE</td>\n",
              "      <td>BA</td>\n",
              "      <td>-</td>\n",
              "    </tr>\n",
              "    <tr>\n",
              "      <th>3</th>\n",
              "      <td>BRA2003</td>\n",
              "      <td>2003-03-29</td>\n",
              "      <td>2003-12-14</td>\n",
              "      <td>1</td>\n",
              "      <td>2003-03-30</td>\n",
              "      <td>16h00</td>\n",
              "      <td>Domingo</td>\n",
              "      <td>Flamengo</td>\n",
              "      <td>Coritiba</td>\n",
              "      <td>-</td>\n",
              "      <td>Maracanã</td>\n",
              "      <td>1</td>\n",
              "      <td>1</td>\n",
              "      <td>RJ</td>\n",
              "      <td>PR</td>\n",
              "      <td>-</td>\n",
              "    </tr>\n",
              "    <tr>\n",
              "      <th>4</th>\n",
              "      <td>BRA2003</td>\n",
              "      <td>2003-03-29</td>\n",
              "      <td>2003-12-14</td>\n",
              "      <td>1</td>\n",
              "      <td>2003-03-30</td>\n",
              "      <td>16h00</td>\n",
              "      <td>Domingo</td>\n",
              "      <td>Vitória</td>\n",
              "      <td>Figueirense</td>\n",
              "      <td>-</td>\n",
              "      <td>Barradão</td>\n",
              "      <td>1</td>\n",
              "      <td>1</td>\n",
              "      <td>ES</td>\n",
              "      <td>SC</td>\n",
              "      <td>-</td>\n",
              "    </tr>\n",
              "  </tbody>\n",
              "</table>\n",
              "</div>"
            ],
            "text/plain": [
              "   torneio     inicio  ... estado visitante  estado vencedor\n",
              "0  BRA2003 2003-03-29  ...               RS               PR\n",
              "1  BRA2003 2003-03-29  ...               RJ               SP\n",
              "2  BRA2003 2003-03-29  ...               BA                -\n",
              "3  BRA2003 2003-03-29  ...               PR                -\n",
              "4  BRA2003 2003-03-29  ...               SC                -\n",
              "\n",
              "[5 rows x 16 columns]"
            ]
          },
          "metadata": {
            "tags": []
          },
          "execution_count": 289
        }
      ]
    },
    {
      "cell_type": "markdown",
      "metadata": {
        "id": "bRdfatNQTgRP"
      },
      "source": [
        "## Análise de Correlação\n"
      ]
    },
    {
      "cell_type": "code",
      "metadata": {
        "colab": {
          "base_uri": "https://localhost:8080/",
          "height": 596
        },
        "id": "31XiLV89TgRP",
        "outputId": "f3df6496-4114-400c-de42-c34e3f21b579"
      },
      "source": [
        "## Mapa de correlação das variáveis numéricas\n",
        "sns.heatmap(df.corr(), annot=True, cmap=\"PiYG\")\n",
        "plt.show()"
      ],
      "execution_count": 290,
      "outputs": [
        {
          "output_type": "display_data",
          "data": {
            "image/png": "[encoded data removed]",
            "text/plain": [
              "<Figure size 1440x720 with 2 Axes>"
            ]
          },
          "metadata": {
            "tags": [],
            "needs_background": "light"
          }
        }
      ]
    },
    {
      "cell_type": "markdown",
      "metadata": {
        "id": "T4K1Yd5oY8mJ"
      },
      "source": [
        "## Análise de Gols"
      ]
    },
    {
      "cell_type": "code",
      "metadata": {
        "colab": {
          "base_uri": "https://localhost:8080/",
          "height": 607
        },
        "id": "IyhAxzjVbuZa",
        "outputId": "576c803d-d783-4c9b-fabb-a80e2fa93957"
      },
      "source": [
        "### GOLS POR EDIÇÃO\n",
        "gols_mandante = df[['torneio', 'mandante placar']].groupby('torneio').agg(lambda x: sum(x)).reset_index()\n",
        "gols_mandante.rename(columns = {\"mandante placar\": \"gols_mandante\"}, inplace=True)\n",
        "\n",
        "gols_visitante = df.groupby('torneio')['visitante placar'].sum().sort_values(ascending=False).reset_index()\n",
        "gols_visitante.rename(columns = {\"visitante placar\": \"gols_visitante\"}, inplace=True)\n",
        "\n",
        "gols_edicao = pd.merge(gols_mandante, gols_visitante, on=\"torneio\")\n",
        "\n",
        "gols_edicao['gols_total'          ] = gols_edicao['gols_mandante'] + gols_edicao['gols_visitante']\n",
        "gols_edicao['gols_mandante_perc'  ] = (gols_edicao['gols_mandante' ]/gols_edicao['gols_total'])*100\n",
        "gols_edicao['gols_visitantes_perc'] = (gols_edicao['gols_visitante']/gols_edicao['gols_total'])*100\n",
        "\n",
        "gols_edicao"
      ],
      "execution_count": 299,
      "outputs": [
        {
          "output_type": "execute_result",
          "data": {
            "text/html": [
              "<div>\n",
              "<style scoped>\n",
              "    .dataframe tbody tr th:only-of-type {\n",
              "        vertical-align: middle;\n",
              "    }\n",
              "\n",
              "    .dataframe tbody tr th {\n",
              "        vertical-align: top;\n",
              "    }\n",
              "\n",
              "    .dataframe thead th {\n",
              "        text-align: right;\n",
              "    }\n",
              "</style>\n",
              "<table border=\"1\" class=\"dataframe\">\n",
              "  <thead>\n",
              "    <tr style=\"text-align: right;\">\n",
              "      <th></th>\n",
              "      <th>torneio</th>\n",
              "      <th>gols_mandante</th>\n",
              "      <th>gols_visitante</th>\n",
              "      <th>gols_total</th>\n",
              "      <th>gols_mandante_perc</th>\n",
              "      <th>gols_visitantes_perc</th>\n",
              "    </tr>\n",
              "  </thead>\n",
              "  <tbody>\n",
              "    <tr>\n",
              "      <th>0</th>\n",
              "      <td>BRA2003</td>\n",
              "      <td>982</td>\n",
              "      <td>610</td>\n",
              "      <td>1592</td>\n",
              "      <td>61.683417</td>\n",
              "      <td>38.316583</td>\n",
              "    </tr>\n",
              "    <tr>\n",
              "      <th>1</th>\n",
              "      <td>BRA2004</td>\n",
              "      <td>947</td>\n",
              "      <td>587</td>\n",
              "      <td>1534</td>\n",
              "      <td>61.734029</td>\n",
              "      <td>38.265971</td>\n",
              "    </tr>\n",
              "    <tr>\n",
              "      <th>2</th>\n",
              "      <td>BRA2005</td>\n",
              "      <td>835</td>\n",
              "      <td>616</td>\n",
              "      <td>1451</td>\n",
              "      <td>57.546520</td>\n",
              "      <td>42.453480</td>\n",
              "    </tr>\n",
              "    <tr>\n",
              "      <th>3</th>\n",
              "      <td>BRA2006</td>\n",
              "      <td>604</td>\n",
              "      <td>426</td>\n",
              "      <td>1030</td>\n",
              "      <td>58.640777</td>\n",
              "      <td>41.359223</td>\n",
              "    </tr>\n",
              "    <tr>\n",
              "      <th>4</th>\n",
              "      <td>BRA2007</td>\n",
              "      <td>638</td>\n",
              "      <td>414</td>\n",
              "      <td>1052</td>\n",
              "      <td>60.646388</td>\n",
              "      <td>39.353612</td>\n",
              "    </tr>\n",
              "    <tr>\n",
              "      <th>5</th>\n",
              "      <td>BRA2008</td>\n",
              "      <td>654</td>\n",
              "      <td>376</td>\n",
              "      <td>1030</td>\n",
              "      <td>63.495146</td>\n",
              "      <td>36.504854</td>\n",
              "    </tr>\n",
              "    <tr>\n",
              "      <th>6</th>\n",
              "      <td>BRA2009</td>\n",
              "      <td>659</td>\n",
              "      <td>435</td>\n",
              "      <td>1094</td>\n",
              "      <td>60.237660</td>\n",
              "      <td>39.762340</td>\n",
              "    </tr>\n",
              "    <tr>\n",
              "      <th>7</th>\n",
              "      <td>BRA2010</td>\n",
              "      <td>581</td>\n",
              "      <td>397</td>\n",
              "      <td>978</td>\n",
              "      <td>59.406953</td>\n",
              "      <td>40.593047</td>\n",
              "    </tr>\n",
              "    <tr>\n",
              "      <th>8</th>\n",
              "      <td>BRA2011</td>\n",
              "      <td>610</td>\n",
              "      <td>407</td>\n",
              "      <td>1017</td>\n",
              "      <td>59.980334</td>\n",
              "      <td>40.019666</td>\n",
              "    </tr>\n",
              "    <tr>\n",
              "      <th>9</th>\n",
              "      <td>BRA2012</td>\n",
              "      <td>559</td>\n",
              "      <td>380</td>\n",
              "      <td>939</td>\n",
              "      <td>59.531416</td>\n",
              "      <td>40.468584</td>\n",
              "    </tr>\n",
              "    <tr>\n",
              "      <th>10</th>\n",
              "      <td>BRA2013</td>\n",
              "      <td>558</td>\n",
              "      <td>378</td>\n",
              "      <td>936</td>\n",
              "      <td>59.615385</td>\n",
              "      <td>40.384615</td>\n",
              "    </tr>\n",
              "    <tr>\n",
              "      <th>11</th>\n",
              "      <td>BRA2014</td>\n",
              "      <td>540</td>\n",
              "      <td>320</td>\n",
              "      <td>860</td>\n",
              "      <td>62.790698</td>\n",
              "      <td>37.209302</td>\n",
              "    </tr>\n",
              "    <tr>\n",
              "      <th>12</th>\n",
              "      <td>BRA2015</td>\n",
              "      <td>555</td>\n",
              "      <td>342</td>\n",
              "      <td>897</td>\n",
              "      <td>61.872910</td>\n",
              "      <td>38.127090</td>\n",
              "    </tr>\n",
              "    <tr>\n",
              "      <th>13</th>\n",
              "      <td>BRA2016</td>\n",
              "      <td>564</td>\n",
              "      <td>348</td>\n",
              "      <td>912</td>\n",
              "      <td>61.842105</td>\n",
              "      <td>38.157895</td>\n",
              "    </tr>\n",
              "    <tr>\n",
              "      <th>14</th>\n",
              "      <td>BRA2017</td>\n",
              "      <td>526</td>\n",
              "      <td>397</td>\n",
              "      <td>923</td>\n",
              "      <td>56.988082</td>\n",
              "      <td>43.011918</td>\n",
              "    </tr>\n",
              "    <tr>\n",
              "      <th>15</th>\n",
              "      <td>BRA2018</td>\n",
              "      <td>525</td>\n",
              "      <td>302</td>\n",
              "      <td>827</td>\n",
              "      <td>63.482467</td>\n",
              "      <td>36.517533</td>\n",
              "    </tr>\n",
              "    <tr>\n",
              "      <th>16</th>\n",
              "      <td>BRA2019</td>\n",
              "      <td>525</td>\n",
              "      <td>351</td>\n",
              "      <td>876</td>\n",
              "      <td>59.931507</td>\n",
              "      <td>40.068493</td>\n",
              "    </tr>\n",
              "    <tr>\n",
              "      <th>17</th>\n",
              "      <td>BRA2020</td>\n",
              "      <td>536</td>\n",
              "      <td>408</td>\n",
              "      <td>944</td>\n",
              "      <td>56.779661</td>\n",
              "      <td>43.220339</td>\n",
              "    </tr>\n",
              "  </tbody>\n",
              "</table>\n",
              "</div>"
            ],
            "text/plain": [
              "    torneio  gols_mandante  ...  gols_mandante_perc  gols_visitantes_perc\n",
              "0   BRA2003            982  ...           61.683417             38.316583\n",
              "1   BRA2004            947  ...           61.734029             38.265971\n",
              "2   BRA2005            835  ...           57.546520             42.453480\n",
              "3   BRA2006            604  ...           58.640777             41.359223\n",
              "4   BRA2007            638  ...           60.646388             39.353612\n",
              "5   BRA2008            654  ...           63.495146             36.504854\n",
              "6   BRA2009            659  ...           60.237660             39.762340\n",
              "7   BRA2010            581  ...           59.406953             40.593047\n",
              "8   BRA2011            610  ...           59.980334             40.019666\n",
              "9   BRA2012            559  ...           59.531416             40.468584\n",
              "10  BRA2013            558  ...           59.615385             40.384615\n",
              "11  BRA2014            540  ...           62.790698             37.209302\n",
              "12  BRA2015            555  ...           61.872910             38.127090\n",
              "13  BRA2016            564  ...           61.842105             38.157895\n",
              "14  BRA2017            526  ...           56.988082             43.011918\n",
              "15  BRA2018            525  ...           63.482467             36.517533\n",
              "16  BRA2019            525  ...           59.931507             40.068493\n",
              "17  BRA2020            536  ...           56.779661             43.220339\n",
              "\n",
              "[18 rows x 6 columns]"
            ]
          },
          "metadata": {
            "tags": []
          },
          "execution_count": 299
        }
      ]
    },
    {
      "cell_type": "code",
      "metadata": {
        "id": "EUr8vkdrTw8w"
      },
      "source": [
        "### GOLS POR EDIÇÃO COMPARATIVO\n",
        "df1 = gols_edicao[['torneio','gols_mandante' ]]\n",
        "df2 = gols_edicao[['torneio','gols_visitante']]\n",
        "df3 = gols_edicao[['torneio','gols_total'    ]]\n",
        "\n",
        "df1.rename(columns = {'gols_mandante' : 'gols' }, inplace=True)\n",
        "df2.rename(columns = {'gols_visitante': 'gols' }, inplace=True)\n",
        "df3.rename(columns = {'gols_total'    : 'gols' }, inplace=True)\n",
        "\n",
        "df1['tipo_gols'] = 'gols_mandante'\n",
        "df2['tipo_gols'] = 'gols_visitante'\n",
        "df3['tipo_gols'] = 'gols_total'\n",
        "\n",
        "df4 = pd.concat([df1, df2, df3]).reset_index(drop=True)"
      ],
      "execution_count": 301,
      "outputs": []
    },
    {
      "cell_type": "code",
      "metadata": {
        "colab": {
          "base_uri": "https://localhost:8080/",
          "height": 632
        },
        "id": "otEn8pa3WhL3",
        "outputId": "1c9a67f4-478f-4e93-cb73-abd03416f908"
      },
      "source": [
        "### GRÁFICO GOLS POR EDIÇÃO COMPARATIVO\n",
        "sns.barplot(x=\"torneio\", y=\"gols\", hue=\"tipo_gols\", data=df4)\n",
        "plt.title('Gols do Brasileirão')\n",
        "plt.show()"
      ],
      "execution_count": 302,
      "outputs": [
        {
          "output_type": "display_data",
          "data": {
            "image/png": "[encoded data removed]",
            "text/plain": [
              "<Figure size 1440x720 with 1 Axes>"
            ]
          },
          "metadata": {
            "tags": [],
            "needs_background": "light"
          }
        }
      ]
    },
    {
      "cell_type": "code",
      "metadata": {
        "colab": {
          "base_uri": "https://localhost:8080/",
          "height": 359
        },
        "id": "Pkotsa2ITgRP",
        "outputId": "97ea132a-caed-4122-d6f2-78c1308df31f"
      },
      "source": [
        "### TOP 10 CLUBE GOLS MARCADOS\n",
        "gols_mandante_time  = df.groupby('mandante' )['mandante placar' ].sum().sort_values(ascending=False).reset_index()\n",
        "gols_visitante_time = df.groupby('visitante')['visitante placar'].sum().sort_values(ascending=False).reset_index()\n",
        "\n",
        "gols_mandante_time.rename(columns  = {\"mandante\" : \"time\", 'mandante placar' : 'gols marcados' }, inplace=True)\n",
        "gols_visitante_time.rename(columns = {\"visitante\": \"time\", 'visitante placar': 'gols marcados' }, inplace=True)\n",
        "\n",
        "gols_time = pd.concat([gols_mandante_time, gols_visitante_time])\n",
        "\n",
        "gols_marcados_time = gols_time.groupby('time')['gols marcados'].sum().sort_values(ascending=False).reset_index()\n",
        "gols_marcados_time.head(10)"
      ],
      "execution_count": 303,
      "outputs": [
        {
          "output_type": "execute_result",
          "data": {
            "text/html": [
              "<div>\n",
              "<style scoped>\n",
              "    .dataframe tbody tr th:only-of-type {\n",
              "        vertical-align: middle;\n",
              "    }\n",
              "\n",
              "    .dataframe tbody tr th {\n",
              "        vertical-align: top;\n",
              "    }\n",
              "\n",
              "    .dataframe thead th {\n",
              "        text-align: right;\n",
              "    }\n",
              "</style>\n",
              "<table border=\"1\" class=\"dataframe\">\n",
              "  <thead>\n",
              "    <tr style=\"text-align: right;\">\n",
              "      <th></th>\n",
              "      <th>time</th>\n",
              "      <th>gols marcados</th>\n",
              "    </tr>\n",
              "  </thead>\n",
              "  <tbody>\n",
              "    <tr>\n",
              "      <th>0</th>\n",
              "      <td>Santos</td>\n",
              "      <td>1060</td>\n",
              "    </tr>\n",
              "    <tr>\n",
              "      <th>1</th>\n",
              "      <td>São Paulo</td>\n",
              "      <td>1037</td>\n",
              "    </tr>\n",
              "    <tr>\n",
              "      <th>2</th>\n",
              "      <td>Flamengo</td>\n",
              "      <td>984</td>\n",
              "    </tr>\n",
              "    <tr>\n",
              "      <th>3</th>\n",
              "      <td>Cruzeiro</td>\n",
              "      <td>978</td>\n",
              "    </tr>\n",
              "    <tr>\n",
              "      <th>4</th>\n",
              "      <td>Atlético-Mg</td>\n",
              "      <td>967</td>\n",
              "    </tr>\n",
              "    <tr>\n",
              "      <th>5</th>\n",
              "      <td>Fluminense</td>\n",
              "      <td>946</td>\n",
              "    </tr>\n",
              "    <tr>\n",
              "      <th>6</th>\n",
              "      <td>Grêmio</td>\n",
              "      <td>912</td>\n",
              "    </tr>\n",
              "    <tr>\n",
              "      <th>7</th>\n",
              "      <td>Internacional</td>\n",
              "      <td>893</td>\n",
              "    </tr>\n",
              "    <tr>\n",
              "      <th>8</th>\n",
              "      <td>Athlético-Pr</td>\n",
              "      <td>892</td>\n",
              "    </tr>\n",
              "    <tr>\n",
              "      <th>9</th>\n",
              "      <td>Palmeiras</td>\n",
              "      <td>889</td>\n",
              "    </tr>\n",
              "  </tbody>\n",
              "</table>\n",
              "</div>"
            ],
            "text/plain": [
              "            time  gols marcados\n",
              "0         Santos           1060\n",
              "1      São Paulo           1037\n",
              "2       Flamengo            984\n",
              "3       Cruzeiro            978\n",
              "4    Atlético-Mg            967\n",
              "5     Fluminense            946\n",
              "6         Grêmio            912\n",
              "7  Internacional            893\n",
              "8   Athlético-Pr            892\n",
              "9      Palmeiras            889"
            ]
          },
          "metadata": {
            "tags": []
          },
          "execution_count": 303
        }
      ]
    },
    {
      "cell_type": "code",
      "metadata": {
        "colab": {
          "base_uri": "https://localhost:8080/",
          "height": 632
        },
        "id": "0WctMe5CXlk0",
        "outputId": "8d0e7023-a679-45f0-baff-c256c24e3277"
      },
      "source": [
        "### GRÁFICO TOP 10 CLUBE GOLS MARCADOS\n",
        "sns.barplot(x=\"gols marcados\", y=\"time\", data=gols_marcados_time.head(10))\n",
        "plt.title('Top 10 Times Gols Marcados do Brasileirão')\n",
        "plt.show()"
      ],
      "execution_count": 304,
      "outputs": [
        {
          "output_type": "display_data",
          "data": {
            "image/png": "[encoded data removed]",
            "text/plain": [
              "<Figure size 1440x720 with 1 Axes>"
            ]
          },
          "metadata": {
            "tags": [],
            "needs_background": "light"
          }
        }
      ]
    },
    {
      "cell_type": "code",
      "metadata": {
        "colab": {
          "base_uri": "https://localhost:8080/",
          "height": 359
        },
        "id": "Vfvc-gtZTgRP",
        "outputId": "b30b7cf1-083e-43e6-af86-74792ef4a289"
      },
      "source": [
        "### TOP 10 CLUBE GOLS SOFRIDOS\n",
        "gols_mandante_time  = df.groupby('visitante')['mandante placar' ].sum().sort_values(ascending=False).reset_index()\n",
        "gols_visitante_time = df.groupby('mandante' )['visitante placar'].sum().sort_values(ascending=False).reset_index()\n",
        "\n",
        "gols_mandante_time.rename(columns  = {\"visitante\": \"time\", 'mandante placar' : 'gols sofridos' }, inplace=True)\n",
        "gols_visitante_time.rename(columns = {\"mandante\" : \"time\", 'visitante placar': 'gols sofridos' }, inplace=True)\n",
        "\n",
        "gols_time = pd.concat([gols_mandante_time, gols_visitante_time])\n",
        "\n",
        "gols_sofridos_time = gols_time.groupby('time')['gols sofridos'].sum().sort_values(ascending=False).reset_index()\n",
        "gols_sofridos_time.head(10)"
      ],
      "execution_count": 305,
      "outputs": [
        {
          "output_type": "execute_result",
          "data": {
            "text/html": [
              "<div>\n",
              "<style scoped>\n",
              "    .dataframe tbody tr th:only-of-type {\n",
              "        vertical-align: middle;\n",
              "    }\n",
              "\n",
              "    .dataframe tbody tr th {\n",
              "        vertical-align: top;\n",
              "    }\n",
              "\n",
              "    .dataframe thead th {\n",
              "        text-align: right;\n",
              "    }\n",
              "</style>\n",
              "<table border=\"1\" class=\"dataframe\">\n",
              "  <thead>\n",
              "    <tr style=\"text-align: right;\">\n",
              "      <th></th>\n",
              "      <th>time</th>\n",
              "      <th>gols sofridos</th>\n",
              "    </tr>\n",
              "  </thead>\n",
              "  <tbody>\n",
              "    <tr>\n",
              "      <th>0</th>\n",
              "      <td>Fluminense</td>\n",
              "      <td>906</td>\n",
              "    </tr>\n",
              "    <tr>\n",
              "      <th>1</th>\n",
              "      <td>Atlético-Mg</td>\n",
              "      <td>875</td>\n",
              "    </tr>\n",
              "    <tr>\n",
              "      <th>2</th>\n",
              "      <td>Flamengo</td>\n",
              "      <td>845</td>\n",
              "    </tr>\n",
              "    <tr>\n",
              "      <th>3</th>\n",
              "      <td>Santos</td>\n",
              "      <td>837</td>\n",
              "    </tr>\n",
              "    <tr>\n",
              "      <th>4</th>\n",
              "      <td>Vasco</td>\n",
              "      <td>832</td>\n",
              "    </tr>\n",
              "    <tr>\n",
              "      <th>5</th>\n",
              "      <td>Athlético-Pr</td>\n",
              "      <td>829</td>\n",
              "    </tr>\n",
              "    <tr>\n",
              "      <th>6</th>\n",
              "      <td>Cruzeiro</td>\n",
              "      <td>818</td>\n",
              "    </tr>\n",
              "    <tr>\n",
              "      <th>7</th>\n",
              "      <td>Botafogo-Rj</td>\n",
              "      <td>801</td>\n",
              "    </tr>\n",
              "    <tr>\n",
              "      <th>8</th>\n",
              "      <td>São Paulo</td>\n",
              "      <td>760</td>\n",
              "    </tr>\n",
              "    <tr>\n",
              "      <th>9</th>\n",
              "      <td>Palmeiras</td>\n",
              "      <td>737</td>\n",
              "    </tr>\n",
              "  </tbody>\n",
              "</table>\n",
              "</div>"
            ],
            "text/plain": [
              "           time  gols sofridos\n",
              "0    Fluminense            906\n",
              "1   Atlético-Mg            875\n",
              "2      Flamengo            845\n",
              "3        Santos            837\n",
              "4         Vasco            832\n",
              "5  Athlético-Pr            829\n",
              "6      Cruzeiro            818\n",
              "7   Botafogo-Rj            801\n",
              "8     São Paulo            760\n",
              "9     Palmeiras            737"
            ]
          },
          "metadata": {
            "tags": []
          },
          "execution_count": 305
        }
      ]
    },
    {
      "cell_type": "code",
      "metadata": {
        "colab": {
          "base_uri": "https://localhost:8080/",
          "height": 632
        },
        "id": "-FZ6o5g9YHOi",
        "outputId": "43a57164-f8ec-4b29-e3de-acf7834711c6"
      },
      "source": [
        "### GRÁFICO TOP 10 CLUBE GOLS SOFRIDOS\n",
        "sns.barplot(x=\"gols sofridos\", y=\"time\", data=gols_sofridos_time.head(10))\n",
        "plt.title('Top 10 Times Gols Sofridos do Brasileirão')\n",
        "plt.show()"
      ],
      "execution_count": 306,
      "outputs": [
        {
          "output_type": "display_data",
          "data": {
            "image/png": "[encoded data removed]",
            "text/plain": [
              "<Figure size 1440x720 with 1 Axes>"
            ]
          },
          "metadata": {
            "tags": [],
            "needs_background": "light"
          }
        }
      ]
    },
    {
      "cell_type": "markdown",
      "metadata": {
        "id": "X-5hZhI0ZGZU"
      },
      "source": [
        "## Análise por Ataque\n"
      ]
    },
    {
      "cell_type": "code",
      "metadata": {
        "colab": {
          "base_uri": "https://localhost:8080/",
          "height": 731
        },
        "id": "Wt23-RQxcecc",
        "outputId": "f992d10b-da9e-4a7c-ee3b-a100d8a2b3dc"
      },
      "source": [
        "### Melhores ataques por edição\n",
        "df['clube']                  = df['mandante']\n",
        "gols_clubes_mandantes        = df.groupby(['torneio','clube'])['mandante placar'].sum().sort_values(ascending=False).reset_index()\n",
        "\n",
        "df['clube']                  = df['visitante']\n",
        "gols_clubes_visitantes       = df.groupby(['torneio','clube'])['visitante placar'].sum().sort_values(ascending=False).reset_index()\n",
        "\n",
        "gols_clubes_mandantes.rename(columns  = {\"mandante placar\" : \"gols_mandante\" }, inplace=True)\n",
        "gols_clubes_visitantes.rename(columns = {\"visitante placar\": \"gols_visitante\"}, inplace=True)\n",
        "\n",
        "gols_clubes               = pd.merge(gols_clubes_mandantes, gols_clubes_visitantes,  on=[\"torneio\",\"clube\"])\n",
        "gols_clubes['gols_total'] = gols_clubes['gols_mandante'] + gols_clubes['gols_visitante']\n",
        "\n",
        "ataque_pior   = gols_clubes.groupby('torneio')['gols_total'].min().sort_values(ascending=False).reset_index()\n",
        "ataque_melhor = gols_clubes.groupby('torneio')['gols_total'].max().sort_values(ascending=False).reset_index()\n",
        "\n",
        "gols_torneio_ataque_melhor = pd.merge(gols_clubes, ataque_melhor, on=['torneio','gols_total'])[['torneio','clube','gols_total']]\n",
        "gols_torneio_ataque_pior   = pd.merge(gols_clubes, ataque_pior  , on=['torneio','gols_total'])[['torneio','clube','gols_total']]\n",
        "\n",
        "gols_torneio_ataque_melhor.rename(columns = {\"gols_total\": \"ataque_melhor\"}, inplace=True)\n",
        "gols_torneio_ataque_pior.rename(columns   = {\"gols_total\": \"ataque_pior\"  }, inplace=True)\n",
        "\n",
        "gols_ataques = pd.merge(gols_torneio_ataque_melhor, gols_torneio_ataque_pior, on=\"torneio\", suffixes=(\"_melhor\",\"_pior\"))\n",
        "gols_ataques.sort_values(['torneio','clube_melhor'])"
      ],
      "execution_count": 307,
      "outputs": [
        {
          "output_type": "execute_result",
          "data": {
            "text/html": [
              "<div>\n",
              "<style scoped>\n",
              "    .dataframe tbody tr th:only-of-type {\n",
              "        vertical-align: middle;\n",
              "    }\n",
              "\n",
              "    .dataframe tbody tr th {\n",
              "        vertical-align: top;\n",
              "    }\n",
              "\n",
              "    .dataframe thead th {\n",
              "        text-align: right;\n",
              "    }\n",
              "</style>\n",
              "<table border=\"1\" class=\"dataframe\">\n",
              "  <thead>\n",
              "    <tr style=\"text-align: right;\">\n",
              "      <th></th>\n",
              "      <th>torneio</th>\n",
              "      <th>clube_melhor</th>\n",
              "      <th>ataque_melhor</th>\n",
              "      <th>clube_pior</th>\n",
              "      <th>ataque_pior</th>\n",
              "    </tr>\n",
              "  </thead>\n",
              "  <tbody>\n",
              "    <tr>\n",
              "      <th>2</th>\n",
              "      <td>BRA2003</td>\n",
              "      <td>Cruzeiro</td>\n",
              "      <td>102</td>\n",
              "      <td>Vitória</td>\n",
              "      <td>50</td>\n",
              "    </tr>\n",
              "    <tr>\n",
              "      <th>0</th>\n",
              "      <td>BRA2004</td>\n",
              "      <td>Santos</td>\n",
              "      <td>103</td>\n",
              "      <td>Ponte Preta</td>\n",
              "      <td>43</td>\n",
              "    </tr>\n",
              "    <tr>\n",
              "      <th>1</th>\n",
              "      <td>BRA2004</td>\n",
              "      <td>Santos</td>\n",
              "      <td>103</td>\n",
              "      <td>Guarani</td>\n",
              "      <td>43</td>\n",
              "    </tr>\n",
              "    <tr>\n",
              "      <th>5</th>\n",
              "      <td>BRA2005</td>\n",
              "      <td>Corinthians</td>\n",
              "      <td>87</td>\n",
              "      <td>Brasiliense</td>\n",
              "      <td>49</td>\n",
              "    </tr>\n",
              "    <tr>\n",
              "      <th>16</th>\n",
              "      <td>BRA2006</td>\n",
              "      <td>São Paulo</td>\n",
              "      <td>66</td>\n",
              "      <td>São Caetano</td>\n",
              "      <td>37</td>\n",
              "    </tr>\n",
              "    <tr>\n",
              "      <th>7</th>\n",
              "      <td>BRA2007</td>\n",
              "      <td>Cruzeiro</td>\n",
              "      <td>74</td>\n",
              "      <td>América-Rn</td>\n",
              "      <td>24</td>\n",
              "    </tr>\n",
              "    <tr>\n",
              "      <th>13</th>\n",
              "      <td>BRA2008</td>\n",
              "      <td>Flamengo</td>\n",
              "      <td>67</td>\n",
              "      <td>Ipatinga</td>\n",
              "      <td>37</td>\n",
              "    </tr>\n",
              "    <tr>\n",
              "      <th>4</th>\n",
              "      <td>BRA2009</td>\n",
              "      <td>Grêmio</td>\n",
              "      <td>67</td>\n",
              "      <td>Athlético-Pr</td>\n",
              "      <td>42</td>\n",
              "    </tr>\n",
              "    <tr>\n",
              "      <th>15</th>\n",
              "      <td>BRA2010</td>\n",
              "      <td>Grêmio</td>\n",
              "      <td>68</td>\n",
              "      <td>Guarani</td>\n",
              "      <td>33</td>\n",
              "    </tr>\n",
              "    <tr>\n",
              "      <th>17</th>\n",
              "      <td>BRA2011</td>\n",
              "      <td>Fluminense</td>\n",
              "      <td>60</td>\n",
              "      <td>Athlético-Pr</td>\n",
              "      <td>38</td>\n",
              "    </tr>\n",
              "    <tr>\n",
              "      <th>10</th>\n",
              "      <td>BRA2012</td>\n",
              "      <td>Atlético-Mg</td>\n",
              "      <td>64</td>\n",
              "      <td>Ponte Preta</td>\n",
              "      <td>37</td>\n",
              "    </tr>\n",
              "    <tr>\n",
              "      <th>11</th>\n",
              "      <td>BRA2012</td>\n",
              "      <td>Atlético-Mg</td>\n",
              "      <td>64</td>\n",
              "      <td>Atlético-Go</td>\n",
              "      <td>37</td>\n",
              "    </tr>\n",
              "    <tr>\n",
              "      <th>12</th>\n",
              "      <td>BRA2012</td>\n",
              "      <td>Atlético-Mg</td>\n",
              "      <td>64</td>\n",
              "      <td>Bahia</td>\n",
              "      <td>37</td>\n",
              "    </tr>\n",
              "    <tr>\n",
              "      <th>6</th>\n",
              "      <td>BRA2013</td>\n",
              "      <td>Cruzeiro</td>\n",
              "      <td>77</td>\n",
              "      <td>Náutico</td>\n",
              "      <td>22</td>\n",
              "    </tr>\n",
              "    <tr>\n",
              "      <th>8</th>\n",
              "      <td>BRA2014</td>\n",
              "      <td>Cruzeiro</td>\n",
              "      <td>67</td>\n",
              "      <td>Criciúma</td>\n",
              "      <td>28</td>\n",
              "    </tr>\n",
              "    <tr>\n",
              "      <th>14</th>\n",
              "      <td>BRA2015</td>\n",
              "      <td>Corinthians</td>\n",
              "      <td>71</td>\n",
              "      <td>Joinville</td>\n",
              "      <td>26</td>\n",
              "    </tr>\n",
              "    <tr>\n",
              "      <th>19</th>\n",
              "      <td>BRA2016</td>\n",
              "      <td>Palmeiras</td>\n",
              "      <td>62</td>\n",
              "      <td>América-Mg</td>\n",
              "      <td>23</td>\n",
              "    </tr>\n",
              "    <tr>\n",
              "      <th>18</th>\n",
              "      <td>BRA2017</td>\n",
              "      <td>Palmeiras</td>\n",
              "      <td>61</td>\n",
              "      <td>Avaí</td>\n",
              "      <td>29</td>\n",
              "    </tr>\n",
              "    <tr>\n",
              "      <th>9</th>\n",
              "      <td>BRA2018</td>\n",
              "      <td>Palmeiras</td>\n",
              "      <td>64</td>\n",
              "      <td>Paraná</td>\n",
              "      <td>18</td>\n",
              "    </tr>\n",
              "    <tr>\n",
              "      <th>3</th>\n",
              "      <td>BRA2019</td>\n",
              "      <td>Flamengo</td>\n",
              "      <td>86</td>\n",
              "      <td>Avaí</td>\n",
              "      <td>18</td>\n",
              "    </tr>\n",
              "    <tr>\n",
              "      <th>20</th>\n",
              "      <td>BRA2020</td>\n",
              "      <td>Flamengo</td>\n",
              "      <td>68</td>\n",
              "      <td>Sport</td>\n",
              "      <td>31</td>\n",
              "    </tr>\n",
              "    <tr>\n",
              "      <th>21</th>\n",
              "      <td>BRA2020</td>\n",
              "      <td>Flamengo</td>\n",
              "      <td>68</td>\n",
              "      <td>Coritiba</td>\n",
              "      <td>31</td>\n",
              "    </tr>\n",
              "  </tbody>\n",
              "</table>\n",
              "</div>"
            ],
            "text/plain": [
              "    torneio clube_melhor  ataque_melhor    clube_pior  ataque_pior\n",
              "2   BRA2003     Cruzeiro            102       Vitória           50\n",
              "0   BRA2004       Santos            103   Ponte Preta           43\n",
              "1   BRA2004       Santos            103       Guarani           43\n",
              "5   BRA2005  Corinthians             87   Brasiliense           49\n",
              "16  BRA2006    São Paulo             66   São Caetano           37\n",
              "7   BRA2007     Cruzeiro             74    América-Rn           24\n",
              "13  BRA2008     Flamengo             67      Ipatinga           37\n",
              "4   BRA2009       Grêmio             67  Athlético-Pr           42\n",
              "15  BRA2010       Grêmio             68       Guarani           33\n",
              "17  BRA2011   Fluminense             60  Athlético-Pr           38\n",
              "10  BRA2012  Atlético-Mg             64   Ponte Preta           37\n",
              "11  BRA2012  Atlético-Mg             64   Atlético-Go           37\n",
              "12  BRA2012  Atlético-Mg             64         Bahia           37\n",
              "6   BRA2013     Cruzeiro             77       Náutico           22\n",
              "8   BRA2014     Cruzeiro             67      Criciúma           28\n",
              "14  BRA2015  Corinthians             71     Joinville           26\n",
              "19  BRA2016    Palmeiras             62    América-Mg           23\n",
              "18  BRA2017    Palmeiras             61          Avaí           29\n",
              "9   BRA2018    Palmeiras             64        Paraná           18\n",
              "3   BRA2019     Flamengo             86          Avaí           18\n",
              "20  BRA2020     Flamengo             68         Sport           31\n",
              "21  BRA2020     Flamengo             68      Coritiba           31"
            ]
          },
          "metadata": {
            "tags": []
          },
          "execution_count": 307
        }
      ]
    },
    {
      "cell_type": "code",
      "metadata": {
        "colab": {
          "base_uri": "https://localhost:8080/",
          "height": 111
        },
        "id": "Q0VX5BitOe_s",
        "outputId": "53ee97eb-0425-4c2b-9237-fd80ad9af0ed"
      },
      "source": [
        "gols_ataques.head(2)"
      ],
      "execution_count": 311,
      "outputs": [
        {
          "output_type": "execute_result",
          "data": {
            "text/html": [
              "<div>\n",
              "<style scoped>\n",
              "    .dataframe tbody tr th:only-of-type {\n",
              "        vertical-align: middle;\n",
              "    }\n",
              "\n",
              "    .dataframe tbody tr th {\n",
              "        vertical-align: top;\n",
              "    }\n",
              "\n",
              "    .dataframe thead th {\n",
              "        text-align: right;\n",
              "    }\n",
              "</style>\n",
              "<table border=\"1\" class=\"dataframe\">\n",
              "  <thead>\n",
              "    <tr style=\"text-align: right;\">\n",
              "      <th></th>\n",
              "      <th>torneio</th>\n",
              "      <th>clube_melhor</th>\n",
              "      <th>ataque_melhor</th>\n",
              "      <th>clube_pior</th>\n",
              "      <th>ataque_pior</th>\n",
              "    </tr>\n",
              "  </thead>\n",
              "  <tbody>\n",
              "    <tr>\n",
              "      <th>0</th>\n",
              "      <td>BRA2004</td>\n",
              "      <td>Santos</td>\n",
              "      <td>103</td>\n",
              "      <td>Ponte Preta</td>\n",
              "      <td>43</td>\n",
              "    </tr>\n",
              "    <tr>\n",
              "      <th>1</th>\n",
              "      <td>BRA2004</td>\n",
              "      <td>Santos</td>\n",
              "      <td>103</td>\n",
              "      <td>Guarani</td>\n",
              "      <td>43</td>\n",
              "    </tr>\n",
              "  </tbody>\n",
              "</table>\n",
              "</div>"
            ],
            "text/plain": [
              "   torneio clube_melhor  ataque_melhor   clube_pior  ataque_pior\n",
              "0  BRA2004       Santos            103  Ponte Preta           43\n",
              "1  BRA2004       Santos            103      Guarani           43"
            ]
          },
          "metadata": {
            "tags": []
          },
          "execution_count": 311
        }
      ]
    },
    {
      "cell_type": "markdown",
      "metadata": {
        "id": "05qv7pzBZOsW"
      },
      "source": [
        "## Análise de Pontuação"
      ]
    },
    {
      "cell_type": "code",
      "metadata": {
        "id": "y7LheypWESxu"
      },
      "source": [
        "# Pontuação\n",
        "pontos_participantes               = df.groupby('torneio')['mandante'].nunique().sort_values(ascending=False).reset_index()\n",
        "pontos_participantes['pontos_max'] = (pontos_participantes.mandante - 1)*2*3\n",
        "\n",
        "pontos = df[['torneio', 'mandante', 'visitante', 'mandante placar', 'visitante placar']]\n",
        "\n",
        "pontos['pontos_mandante' ] = pontos.apply(lambda x: 3 if x['mandante placar'] > x['visitante placar'] else (0 if x['mandante placar'] < x['visitante placar'] else 1), axis=1)\n",
        "pontos['pontos_visitante'] = pontos.apply(lambda x: 3 if x['mandante placar'] < x['visitante placar'] else (0 if x['mandante placar'] > x['visitante placar'] else 1), axis=1)\n",
        "\n",
        "pontos_mandantes = pontos.groupby(['torneio','mandante' ])['pontos_mandante' ].sum().sort_values(ascending=False).reset_index()\n",
        "pontos_visitante = pontos.groupby(['torneio','visitante'])['pontos_visitante'].sum().sort_values(ascending=False).reset_index()\n",
        "\n",
        "pontos_mandantes.rename(columns = {\"mandante\": \"clube\" }, inplace=True)\n",
        "pontos_visitante.rename(columns = {\"visitante\": \"clube\"}, inplace=True)\n",
        "\n",
        "pontos_total = pd.merge(pontos_mandantes, pontos_visitante, on=['torneio','clube'])\n",
        "pontos_total['pontos_total'] = pontos_total.pontos_mandante + pontos_total.pontos_visitante"
      ],
      "execution_count": 313,
      "outputs": []
    },
    {
      "cell_type": "code",
      "metadata": {
        "colab": {
          "base_uri": "https://localhost:8080/",
          "height": 80
        },
        "id": "ULDOYCSbPYB0",
        "outputId": "4bdd309d-f895-4aa8-c01c-5b4bb8d57a16"
      },
      "source": [
        "### maior pontuador de todas as edições\n",
        "pontos_total[pontos_total['pontos_total'] == pontos_total['pontos_total'].max()]"
      ],
      "execution_count": 314,
      "outputs": [
        {
          "output_type": "execute_result",
          "data": {
            "text/html": [
              "<div>\n",
              "<style scoped>\n",
              "    .dataframe tbody tr th:only-of-type {\n",
              "        vertical-align: middle;\n",
              "    }\n",
              "\n",
              "    .dataframe tbody tr th {\n",
              "        vertical-align: top;\n",
              "    }\n",
              "\n",
              "    .dataframe thead th {\n",
              "        text-align: right;\n",
              "    }\n",
              "</style>\n",
              "<table border=\"1\" class=\"dataframe\">\n",
              "  <thead>\n",
              "    <tr style=\"text-align: right;\">\n",
              "      <th></th>\n",
              "      <th>torneio</th>\n",
              "      <th>clube</th>\n",
              "      <th>pontos_mandante</th>\n",
              "      <th>pontos_visitante</th>\n",
              "      <th>pontos_total</th>\n",
              "    </tr>\n",
              "  </thead>\n",
              "  <tbody>\n",
              "    <tr>\n",
              "      <th>2</th>\n",
              "      <td>BRA2003</td>\n",
              "      <td>Cruzeiro</td>\n",
              "      <td>56</td>\n",
              "      <td>44</td>\n",
              "      <td>100</td>\n",
              "    </tr>\n",
              "  </tbody>\n",
              "</table>\n",
              "</div>"
            ],
            "text/plain": [
              "   torneio     clube  pontos_mandante  pontos_visitante  pontos_total\n",
              "2  BRA2003  Cruzeiro               56                44           100"
            ]
          },
          "metadata": {
            "tags": []
          },
          "execution_count": 314
        }
      ]
    },
    {
      "cell_type": "code",
      "metadata": {
        "colab": {
          "base_uri": "https://localhost:8080/",
          "height": 80
        },
        "id": "imefhe5uPi5e",
        "outputId": "226406f0-262b-43ca-8ef3-c40cd0705052"
      },
      "source": [
        "### menor pontuador de todas as edições\n",
        "pontos_total[pontos_total['pontos_total'] == pontos_total['pontos_total'].min()]"
      ],
      "execution_count": 315,
      "outputs": [
        {
          "output_type": "execute_result",
          "data": {
            "text/html": [
              "<div>\n",
              "<style scoped>\n",
              "    .dataframe tbody tr th:only-of-type {\n",
              "        vertical-align: middle;\n",
              "    }\n",
              "\n",
              "    .dataframe tbody tr th {\n",
              "        vertical-align: top;\n",
              "    }\n",
              "\n",
              "    .dataframe thead th {\n",
              "        text-align: right;\n",
              "    }\n",
              "</style>\n",
              "<table border=\"1\" class=\"dataframe\">\n",
              "  <thead>\n",
              "    <tr style=\"text-align: right;\">\n",
              "      <th></th>\n",
              "      <th>torneio</th>\n",
              "      <th>clube</th>\n",
              "      <th>pontos_mandante</th>\n",
              "      <th>pontos_visitante</th>\n",
              "      <th>pontos_total</th>\n",
              "    </tr>\n",
              "  </thead>\n",
              "  <tbody>\n",
              "    <tr>\n",
              "      <th>369</th>\n",
              "      <td>BRA2007</td>\n",
              "      <td>América-Rn</td>\n",
              "      <td>9</td>\n",
              "      <td>8</td>\n",
              "      <td>17</td>\n",
              "    </tr>\n",
              "  </tbody>\n",
              "</table>\n",
              "</div>"
            ],
            "text/plain": [
              "     torneio       clube  pontos_mandante  pontos_visitante  pontos_total\n",
              "369  BRA2007  América-Rn                9                 8            17"
            ]
          },
          "metadata": {
            "tags": []
          },
          "execution_count": 315
        }
      ]
    },
    {
      "cell_type": "markdown",
      "metadata": {
        "id": "eaLDeCs2BpHH"
      },
      "source": [
        "## Análise de Resultados"
      ]
    },
    {
      "cell_type": "code",
      "metadata": {
        "id": "EPjE8WQlm1zm"
      },
      "source": [
        "### Número de vitórias, empates e derrotas das equipes\n",
        "resultado = pontos[['torneio','mandante','visitante','pontos_mandante','pontos_visitante']]\n",
        "resultado['resultado_mandante' ] = pontos.apply(lambda x: 'Vitória' if x['pontos_mandante' ] == 3 else ('Derrota' if x['pontos_mandante' ] == 0 else 'Empate'), axis=1)\n",
        "resultado['resultado_visitante'] = pontos.apply(lambda x: 'Vitória' if x['pontos_visitante'] == 3 else ('Derrota' if x['pontos_visitante'] == 0 else 'Empate'), axis=1)\n",
        "\n",
        "resultado_mandante = resultado.groupby( ['mandante' ,'resultado_mandante' ])['torneio'].count().reset_index()\n",
        "resultado_visitante = resultado.groupby(['visitante','resultado_visitante'])['torneio'].count().reset_index()\n",
        "\n",
        "resultado_mandante.rename(columns  = {\"mandante\": \"clube\" , \"resultado_mandante\" :\"resultado\", \"torneio\":\"ocorrencia\"}, inplace=True)\n",
        "resultado_visitante.rename(columns = {\"visitante\": \"clube\", \"resultado_visitante\":\"resultado\", \"torneio\":\"ocorrencia\"}, inplace=True)\n",
        "\n",
        "resultado = pd.concat([resultado_mandante, resultado_visitante])\n",
        "resultado = resultado.groupby(['clube','resultado'])['ocorrencia'].sum().reset_index()"
      ],
      "execution_count": 316,
      "outputs": []
    },
    {
      "cell_type": "code",
      "metadata": {
        "colab": {
          "base_uri": "https://localhost:8080/",
          "height": 718
        },
        "id": "VGcPmerxOr37",
        "outputId": "b582d49a-a330-4a13-a547-3e3c00b5d48d"
      },
      "source": [
        "colors = [\"#b2df8a\", \"#5764db\",\"#e14c4c\"]\n",
        "sns.set_palette(sns.color_palette(colors))\n",
        "\n",
        "g = sns.barplot(x=\"clube\", y=\"ocorrencia\", hue=\"resultado\", data=resultado, hue_order=['Vitória','Empate','Derrota'])\n",
        "plt.title('Resultados por Equipe')\n",
        "plt.xticks(rotation=90)\n",
        "plt.tight_layout()"
      ],
      "execution_count": 323,
      "outputs": [
        {
          "output_type": "display_data",
          "data": {
            "image/png": "[encoded data removed]",
            "text/plain": [
              "<Figure size 1440x720 with 1 Axes>"
            ]
          },
          "metadata": {
            "tags": [],
            "needs_background": "light"
          }
        }
      ]
    },
    {
      "cell_type": "code",
      "metadata": {
        "colab": {
          "base_uri": "https://localhost:8080/",
          "height": 204
        },
        "id": "CgNVRvqG2wmB",
        "outputId": "e684f449-afa3-4d44-d4ec-74287561f289"
      },
      "source": [
        "### Percentual de resultados por equipe\n",
        "vit = resultado.query(\"resultado == 'Vitória'\")\n",
        "emp = resultado.query(\"resultado == 'Empate'\" )\n",
        "der = resultado.query(\"resultado == 'Derrota'\")\n",
        "\n",
        "vit.rename(columns = {\"ocorrencia\": \"vitorias\"}, inplace=True)\n",
        "emp.rename(columns = {\"ocorrencia\": \"empates\" }, inplace=True)\n",
        "der.rename(columns = {\"ocorrencia\": \"derrotas\"}, inplace=True)\n",
        "\n",
        "vit = vit[['clube','vitorias']]\n",
        "emp = emp[['clube','empates']]\n",
        "der = der[['clube','derrotas']]\n",
        "\n",
        "rm = pd.merge(vit, emp, on='clube')\n",
        "ca = pd.merge(rm , der, on='clube')\n",
        "ca['total'] = ca['vitorias'] + ca['empates'] + ca['derrotas']\n",
        "\n",
        "ca['perc_vitorias'] = (ca.vitorias / ca.total)*100\n",
        "ca['perc_empates' ] = (ca.empates  / ca.total)*100\n",
        "ca['perc_derrotas'] = (ca.derrotas / ca.total)*100\n",
        "\n",
        "ca.head()"
      ],
      "execution_count": 318,
      "outputs": [
        {
          "output_type": "execute_result",
          "data": {
            "text/html": [
              "<div>\n",
              "<style scoped>\n",
              "    .dataframe tbody tr th:only-of-type {\n",
              "        vertical-align: middle;\n",
              "    }\n",
              "\n",
              "    .dataframe tbody tr th {\n",
              "        vertical-align: top;\n",
              "    }\n",
              "\n",
              "    .dataframe thead th {\n",
              "        text-align: right;\n",
              "    }\n",
              "</style>\n",
              "<table border=\"1\" class=\"dataframe\">\n",
              "  <thead>\n",
              "    <tr style=\"text-align: right;\">\n",
              "      <th></th>\n",
              "      <th>clube</th>\n",
              "      <th>vitorias</th>\n",
              "      <th>empates</th>\n",
              "      <th>derrotas</th>\n",
              "      <th>total</th>\n",
              "      <th>perc_vitorias</th>\n",
              "      <th>perc_empates</th>\n",
              "      <th>perc_derrotas</th>\n",
              "    </tr>\n",
              "  </thead>\n",
              "  <tbody>\n",
              "    <tr>\n",
              "      <th>0</th>\n",
              "      <td>América-Mg</td>\n",
              "      <td>25</td>\n",
              "      <td>30</td>\n",
              "      <td>59</td>\n",
              "      <td>114</td>\n",
              "      <td>21.929825</td>\n",
              "      <td>26.315789</td>\n",
              "      <td>51.754386</td>\n",
              "    </tr>\n",
              "    <tr>\n",
              "      <th>1</th>\n",
              "      <td>América-Rn</td>\n",
              "      <td>4</td>\n",
              "      <td>5</td>\n",
              "      <td>29</td>\n",
              "      <td>38</td>\n",
              "      <td>10.526316</td>\n",
              "      <td>13.157895</td>\n",
              "      <td>76.315789</td>\n",
              "    </tr>\n",
              "    <tr>\n",
              "      <th>2</th>\n",
              "      <td>Athlético-Pr</td>\n",
              "      <td>266</td>\n",
              "      <td>157</td>\n",
              "      <td>243</td>\n",
              "      <td>666</td>\n",
              "      <td>39.939940</td>\n",
              "      <td>23.573574</td>\n",
              "      <td>36.486486</td>\n",
              "    </tr>\n",
              "    <tr>\n",
              "      <th>3</th>\n",
              "      <td>Atlético-Go</td>\n",
              "      <td>51</td>\n",
              "      <td>53</td>\n",
              "      <td>86</td>\n",
              "      <td>190</td>\n",
              "      <td>26.842105</td>\n",
              "      <td>27.894737</td>\n",
              "      <td>45.263158</td>\n",
              "    </tr>\n",
              "    <tr>\n",
              "      <th>4</th>\n",
              "      <td>Atlético-Mg</td>\n",
              "      <td>267</td>\n",
              "      <td>172</td>\n",
              "      <td>227</td>\n",
              "      <td>666</td>\n",
              "      <td>40.090090</td>\n",
              "      <td>25.825826</td>\n",
              "      <td>34.084084</td>\n",
              "    </tr>\n",
              "  </tbody>\n",
              "</table>\n",
              "</div>"
            ],
            "text/plain": [
              "          clube  vitorias  empates  ...  perc_vitorias  perc_empates  perc_derrotas\n",
              "0    América-Mg        25       30  ...      21.929825     26.315789      51.754386\n",
              "1    América-Rn         4        5  ...      10.526316     13.157895      76.315789\n",
              "2  Athlético-Pr       266      157  ...      39.939940     23.573574      36.486486\n",
              "3   Atlético-Go        51       53  ...      26.842105     27.894737      45.263158\n",
              "4   Atlético-Mg       267      172  ...      40.090090     25.825826      34.084084\n",
              "\n",
              "[5 rows x 8 columns]"
            ]
          },
          "metadata": {
            "tags": []
          },
          "execution_count": 318
        }
      ]
    },
    {
      "cell_type": "code",
      "metadata": {
        "id": "it9KmZJ2EVrj"
      },
      "source": [
        "percentual = resultado\n",
        "perc_total = percentual.groupby(['clube'])['ocorrencia'].sum().reset_index()\n",
        "percentual = pd.merge(percentual, perc_total, on='clube', suffixes=(\"\",\"_y\") )\n",
        "percentual.rename(columns = {\"ocorrencia_y\": \"perc\"}, inplace=True)\n",
        "percentual['perc'] = (percentual.ocorrencia / percentual.perc)*100"
      ],
      "execution_count": 319,
      "outputs": []
    },
    {
      "cell_type": "code",
      "metadata": {
        "colab": {
          "base_uri": "https://localhost:8080/",
          "height": 718
        },
        "id": "kfRRgeAUFE0p",
        "outputId": "9b65c85f-283c-4b80-90a5-1aadc70fbefe"
      },
      "source": [
        "colors = [\"#b2df8a\", \"#5764db\",\"#e14c4c\"]\n",
        "sns.set_palette(sns.color_palette(colors))\n",
        "\n",
        "g = sns.barplot(x=\"clube\", y=\"perc\", hue=\"resultado\", data=percentual, hue_order=['Vitória','Empate','Derrota'])\n",
        "\n",
        "plt.title('Percentual dos Resultados por Equipe')\n",
        "plt.xticks(rotation=90)\n",
        "plt.tight_layout()"
      ],
      "execution_count": 322,
      "outputs": [
        {
          "output_type": "display_data",
          "data": {
            "image/png": "[encoded data removed]",
            "text/plain": [
              "<Figure size 1440x720 with 1 Axes>"
            ]
          },
          "metadata": {
            "tags": [],
            "needs_background": "light"
          }
        }
      ]
    },
    {
      "cell_type": "markdown",
      "metadata": {
        "id": "aZ7NRlZ2ZTze"
      },
      "source": [
        "## Análise de Campeões"
      ]
    },
    {
      "cell_type": "code",
      "metadata": {
        "id": "gNL2yRaxSHqa"
      },
      "source": [
        "### Campeões\n",
        "campeoes = pontos_total.groupby('torneio')['pontos_total'].max().reset_index()\n",
        "campeoes.rename(columns = {\"pontos_total\": \"maior_ponto\"}, inplace=True)\n",
        "campeoes = pd.merge(campeoes, pontos_total, left_on=['torneio','maior_ponto'], right_on=['torneio','pontos_total'])\n",
        "\n",
        "campeoes = pd.merge(campeoes, pontos_participantes, on='torneio')\n",
        "campeoes['aproveitamento'] = (campeoes.pontos_total / campeoes.pontos_max)*100\n",
        "campeoes['ano'] = campeoes['torneio'].str.extract('(\\d+)').astype(int)\n",
        "campeoes"
      ],
      "execution_count": null,
      "outputs": []
    },
    {
      "cell_type": "code",
      "metadata": {
        "colab": {
          "base_uri": "https://localhost:8080/",
          "height": 111
        },
        "id": "TRbYzorLWrjH",
        "outputId": "e85edaca-0bc0-42ad-c3f8-0c7a01a04e3e"
      },
      "source": [
        "### campeões com a maior e menor pontuação\n",
        "campeoes_pontuacao = campeoes[['torneio', 'clube', 'pontos_total', 'aproveitamento']]\n",
        "campeoes_pontuacao['maior_ponto'] = campeoes_pontuacao.pontos_total.max()\n",
        "campeoes_pontuacao['menor_ponto'] = campeoes_pontuacao['pontos_total'].min()\n",
        "campeoes_pontuacao = campeoes_pontuacao.query('pontos_total == maior_ponto or pontos_total == menor_ponto')\n",
        "campeoes_pontuacao['observacao'] = campeoes_pontuacao.apply(lambda x: 'Campeão com a maior pontuação' if x['pontos_total'] == x['maior_ponto'] else 'Campeão com a menor pontuação', axis=1)\n",
        "campeoes_pontuacao = campeoes_pontuacao[['torneio', 'clube', 'pontos_total', 'observacao']]\n",
        "\n",
        "campeoes_pontuacao"
      ],
      "execution_count": 25,
      "outputs": [
        {
          "output_type": "execute_result",
          "data": {
            "text/html": [
              "<div>\n",
              "<style scoped>\n",
              "    .dataframe tbody tr th:only-of-type {\n",
              "        vertical-align: middle;\n",
              "    }\n",
              "\n",
              "    .dataframe tbody tr th {\n",
              "        vertical-align: top;\n",
              "    }\n",
              "\n",
              "    .dataframe thead th {\n",
              "        text-align: right;\n",
              "    }\n",
              "</style>\n",
              "<table border=\"1\" class=\"dataframe\">\n",
              "  <thead>\n",
              "    <tr style=\"text-align: right;\">\n",
              "      <th></th>\n",
              "      <th>torneio</th>\n",
              "      <th>clube</th>\n",
              "      <th>pontos_total</th>\n",
              "      <th>observacao</th>\n",
              "    </tr>\n",
              "  </thead>\n",
              "  <tbody>\n",
              "    <tr>\n",
              "      <th>0</th>\n",
              "      <td>BRA2003</td>\n",
              "      <td>Cruzeiro</td>\n",
              "      <td>100</td>\n",
              "      <td>Campeão com a maior pontuação</td>\n",
              "    </tr>\n",
              "    <tr>\n",
              "      <th>6</th>\n",
              "      <td>BRA2009</td>\n",
              "      <td>Flamengo</td>\n",
              "      <td>67</td>\n",
              "      <td>Campeão com a menor pontuação</td>\n",
              "    </tr>\n",
              "  </tbody>\n",
              "</table>\n",
              "</div>"
            ],
            "text/plain": [
              "   torneio     clube  pontos_total                     observacao\n",
              "0  BRA2003  Cruzeiro           100  Campeão com a maior pontuação\n",
              "6  BRA2009  Flamengo            67  Campeão com a menor pontuação"
            ]
          },
          "metadata": {
            "tags": []
          },
          "execution_count": 25
        }
      ]
    },
    {
      "cell_type": "code",
      "metadata": {
        "colab": {
          "base_uri": "https://localhost:8080/",
          "height": 111
        },
        "id": "l83hnpkXTiV1",
        "outputId": "7419023f-238f-4326-86e4-b49e0b0aaefe"
      },
      "source": [
        "### campeões com o maior e menor aproveitamento\n",
        "campeoes_aproveitamento = campeoes[['torneio', 'clube', 'pontos_total', 'aproveitamento']]\n",
        "campeoes_aproveitamento['maior_aproveitamento'] = campeoes_aproveitamento.aproveitamento.max()\n",
        "campeoes_aproveitamento['menor_aproveitamento'] = campeoes_aproveitamento['aproveitamento'].min()\n",
        "campeoes_aproveitamento = campeoes_aproveitamento.query('aproveitamento == maior_aproveitamento or aproveitamento == menor_aproveitamento')\n",
        "campeoes_aproveitamento['observacao'] = campeoes_aproveitamento.apply(lambda x: 'Campeão com o maior aproveitamento' if x['aproveitamento'] == x['maior_aproveitamento'] else 'Campeão com o menor aproveitamento', axis=1)\n",
        "campeoes_aproveitamento = campeoes_aproveitamento[['torneio', 'clube', 'aproveitamento', 'observacao']]\n",
        "campeoes_aproveitamento"
      ],
      "execution_count": 26,
      "outputs": [
        {
          "output_type": "execute_result",
          "data": {
            "text/html": [
              "<div>\n",
              "<style scoped>\n",
              "    .dataframe tbody tr th:only-of-type {\n",
              "        vertical-align: middle;\n",
              "    }\n",
              "\n",
              "    .dataframe tbody tr th {\n",
              "        vertical-align: top;\n",
              "    }\n",
              "\n",
              "    .dataframe thead th {\n",
              "        text-align: right;\n",
              "    }\n",
              "</style>\n",
              "<table border=\"1\" class=\"dataframe\">\n",
              "  <thead>\n",
              "    <tr style=\"text-align: right;\">\n",
              "      <th></th>\n",
              "      <th>torneio</th>\n",
              "      <th>clube</th>\n",
              "      <th>aproveitamento</th>\n",
              "      <th>observacao</th>\n",
              "    </tr>\n",
              "  </thead>\n",
              "  <tbody>\n",
              "    <tr>\n",
              "      <th>6</th>\n",
              "      <td>BRA2009</td>\n",
              "      <td>Flamengo</td>\n",
              "      <td>58.771930</td>\n",
              "      <td>Campeão com o menor aproveitamento</td>\n",
              "    </tr>\n",
              "    <tr>\n",
              "      <th>16</th>\n",
              "      <td>BRA2019</td>\n",
              "      <td>Flamengo</td>\n",
              "      <td>78.947368</td>\n",
              "      <td>Campeão com o maior aproveitamento</td>\n",
              "    </tr>\n",
              "  </tbody>\n",
              "</table>\n",
              "</div>"
            ],
            "text/plain": [
              "    torneio     clube  aproveitamento                          observacao\n",
              "6   BRA2009  Flamengo       58.771930  Campeão com o menor aproveitamento\n",
              "16  BRA2019  Flamengo       78.947368  Campeão com o maior aproveitamento"
            ]
          },
          "metadata": {
            "tags": []
          },
          "execution_count": 26
        }
      ]
    },
    {
      "cell_type": "code",
      "metadata": {
        "colab": {
          "base_uri": "https://localhost:8080/",
          "height": 528
        },
        "id": "ZvCBnkjV9IB8",
        "outputId": "b8e2e571-add0-4051-fb35-a2fdf73883e7"
      },
      "source": [
        "campeoes['aprov'] = campeoes.aproveitamento.astype(int)\n",
        "\n",
        "g = sns.catplot(x='ano',y='aprov', data=campeoes, hue='clube', dodge=False, kind='bar', height=7, aspect=2)\n",
        "g.set_axis_labels('Ano','Aproveitamento')\n",
        "g.fig.suptitle('Aproveitamento dos campeões do brasileirão de pontos corridos', ha='center', fontsize=18)\n",
        "\n",
        "for index, row in campeoes.iterrows():\n",
        "    g.ax.text(row.name, row.aprov, row.aprov, color='black', ha=\"center\")\n",
        "  "
      ],
      "execution_count": 27,
      "outputs": [
        {
          "output_type": "display_data",
          "data": {
            "image/png": "[encoded data removed]",
            "text/plain": [
              "<Figure size 1148.88x504 with 1 Axes>"
            ]
          },
          "metadata": {
            "tags": [],
            "needs_background": "light"
          }
        }
      ]
    }
  ]
}